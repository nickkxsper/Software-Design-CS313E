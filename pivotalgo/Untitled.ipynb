{
 "cells": [
  {
   "cell_type": "code",
   "execution_count": 176,
   "metadata": {},
   "outputs": [],
   "source": [
    "import pandas as pd\n",
    "import yfinance as yf"
   ]
  },
  {
   "cell_type": "code",
   "execution_count": 177,
   "metadata": {},
   "outputs": [],
   "source": [
    "data = pd.read_csv('pivots.csv')\n",
    "data = data.rename({data.columns[0]:'Date'}, axis = 1)\n",
    "#data = data.set_index(data.columns[0])"
   ]
  },
  {
   "cell_type": "code",
   "execution_count": 178,
   "metadata": {},
   "outputs": [],
   "source": [
    "# now we need to make the previous days pair onto the next day of data"
   ]
  },
  {
   "cell_type": "code",
   "execution_count": 179,
   "metadata": {},
   "outputs": [],
   "source": [
    "copy = data.copy()"
   ]
  },
  {
   "cell_type": "code",
   "execution_count": 180,
   "metadata": {},
   "outputs": [],
   "source": [
    "copy['PH'] = copy['PH'].shift(1)\n",
    "copy['PL'] = copy['PL'].shift(1)"
   ]
  },
  {
   "cell_type": "code",
   "execution_count": 181,
   "metadata": {},
   "outputs": [],
   "source": [
    "copy = copy.dropna(axis = 0)"
   ]
  },
  {
   "cell_type": "code",
   "execution_count": 182,
   "metadata": {},
   "outputs": [],
   "source": [
    "# is it valid?\n",
    "valid = []\n",
    "for i in range(len(copy)):\n",
    "    if copy.iloc[i]['PH'] > copy.iloc[i]['PL']:\n",
    "        valid.append(1)\n",
    "    else:\n",
    "        valid.append(0)\n",
    "copy['Valid'] = valid\n",
    "copy = copy.set_index('Date')"
   ]
  },
  {
   "cell_type": "code",
   "execution_count": 183,
   "metadata": {},
   "outputs": [
    {
     "data": {
      "text/html": [
       "<div>\n",
       "<style scoped>\n",
       "    .dataframe tbody tr th:only-of-type {\n",
       "        vertical-align: middle;\n",
       "    }\n",
       "\n",
       "    .dataframe tbody tr th {\n",
       "        vertical-align: top;\n",
       "    }\n",
       "\n",
       "    .dataframe thead th {\n",
       "        text-align: right;\n",
       "    }\n",
       "</style>\n",
       "<table border=\"1\" class=\"dataframe\">\n",
       "  <thead>\n",
       "    <tr style=\"text-align: right;\">\n",
       "      <th></th>\n",
       "      <th>PH</th>\n",
       "      <th>PL</th>\n",
       "      <th>Valid</th>\n",
       "    </tr>\n",
       "    <tr>\n",
       "      <th>Date</th>\n",
       "      <th></th>\n",
       "      <th></th>\n",
       "      <th></th>\n",
       "    </tr>\n",
       "  </thead>\n",
       "  <tbody>\n",
       "    <tr>\n",
       "      <th>2000-09-19</th>\n",
       "      <td>1475.333333</td>\n",
       "      <td>1483.833333</td>\n",
       "      <td>0</td>\n",
       "    </tr>\n",
       "    <tr>\n",
       "      <th>2000-09-20</th>\n",
       "      <td>1482.250000</td>\n",
       "      <td>1478.500000</td>\n",
       "      <td>1</td>\n",
       "    </tr>\n",
       "    <tr>\n",
       "      <th>2000-09-21</th>\n",
       "      <td>1473.125000</td>\n",
       "      <td>1469.000000</td>\n",
       "      <td>1</td>\n",
       "    </tr>\n",
       "    <tr>\n",
       "      <th>2000-09-22</th>\n",
       "      <td>1472.916667</td>\n",
       "      <td>1468.166667</td>\n",
       "      <td>1</td>\n",
       "    </tr>\n",
       "    <tr>\n",
       "      <th>2000-09-25</th>\n",
       "      <td>1468.625000</td>\n",
       "      <td>1454.000000</td>\n",
       "      <td>1</td>\n",
       "    </tr>\n",
       "    <tr>\n",
       "      <th>...</th>\n",
       "      <td>...</td>\n",
       "      <td>...</td>\n",
       "      <td>...</td>\n",
       "    </tr>\n",
       "    <tr>\n",
       "      <th>2021-05-14</th>\n",
       "      <td>4102.333333</td>\n",
       "      <td>4073.333333</td>\n",
       "      <td>1</td>\n",
       "    </tr>\n",
       "    <tr>\n",
       "      <th>2021-05-17</th>\n",
       "      <td>4164.916667</td>\n",
       "      <td>4137.666667</td>\n",
       "      <td>1</td>\n",
       "    </tr>\n",
       "    <tr>\n",
       "      <th>2021-05-18</th>\n",
       "      <td>4162.708333</td>\n",
       "      <td>4162.583333</td>\n",
       "      <td>1</td>\n",
       "    </tr>\n",
       "    <tr>\n",
       "      <th>2021-05-19</th>\n",
       "      <td>4135.500000</td>\n",
       "      <td>4158.000000</td>\n",
       "      <td>0</td>\n",
       "    </tr>\n",
       "    <tr>\n",
       "      <th>2021-05-20</th>\n",
       "      <td>4109.083333</td>\n",
       "      <td>4086.833333</td>\n",
       "      <td>1</td>\n",
       "    </tr>\n",
       "  </tbody>\n",
       "</table>\n",
       "<p>5190 rows × 3 columns</p>\n",
       "</div>"
      ],
      "text/plain": [
       "                     PH           PL  Valid\n",
       "Date                                       \n",
       "2000-09-19  1475.333333  1483.833333      0\n",
       "2000-09-20  1482.250000  1478.500000      1\n",
       "2000-09-21  1473.125000  1469.000000      1\n",
       "2000-09-22  1472.916667  1468.166667      1\n",
       "2000-09-25  1468.625000  1454.000000      1\n",
       "...                 ...          ...    ...\n",
       "2021-05-14  4102.333333  4073.333333      1\n",
       "2021-05-17  4164.916667  4137.666667      1\n",
       "2021-05-18  4162.708333  4162.583333      1\n",
       "2021-05-19  4135.500000  4158.000000      0\n",
       "2021-05-20  4109.083333  4086.833333      1\n",
       "\n",
       "[5190 rows x 3 columns]"
      ]
     },
     "execution_count": 183,
     "metadata": {},
     "output_type": "execute_result"
    }
   ],
   "source": [
    "copy"
   ]
  },
  {
   "cell_type": "code",
   "execution_count": 184,
   "metadata": {},
   "outputs": [],
   "source": [
    "# use most recent pivots that made sense. # Can specific vix cluster predict "
   ]
  },
  {
   "cell_type": "code",
   "execution_count": 185,
   "metadata": {},
   "outputs": [],
   "source": [
    "vix = yf.Ticker('^VIX').history(period = 'max')"
   ]
  },
  {
   "cell_type": "code",
   "execution_count": 186,
   "metadata": {},
   "outputs": [],
   "source": [
    "vix = vix.loc['2000-09-19':'2021-05-20']"
   ]
  },
  {
   "cell_type": "code",
   "execution_count": 187,
   "metadata": {},
   "outputs": [],
   "source": [
    "x = copy.join(vix, how = 'outer')"
   ]
  },
  {
   "cell_type": "code",
   "execution_count": 188,
   "metadata": {},
   "outputs": [],
   "source": [
    "x['prev_vol_range'] = abs(x['High'].shift(2) - x['Low'].shift(2))"
   ]
  },
  {
   "cell_type": "code",
   "execution_count": 189,
   "metadata": {},
   "outputs": [],
   "source": [
    "x = x.dropna(axis = 0)"
   ]
  },
  {
   "cell_type": "code",
   "execution_count": 190,
   "metadata": {},
   "outputs": [],
   "source": [
    "import numpy as np"
   ]
  },
  {
   "cell_type": "code",
   "execution_count": 191,
   "metadata": {},
   "outputs": [
    {
     "data": {
      "text/plain": [
       "array([[ 1.        , -0.00654428],\n",
       "       [-0.00654428,  1.        ]])"
      ]
     },
     "execution_count": 191,
     "metadata": {},
     "output_type": "execute_result"
    }
   ],
   "source": [
    "np.corrcoef(x['Valid'], x['prev_vol_range'])"
   ]
  },
  {
   "cell_type": "code",
   "execution_count": 192,
   "metadata": {},
   "outputs": [
    {
     "data": {
      "text/plain": [
       "<matplotlib.collections.PathCollection at 0x18632aa18b0>"
      ]
     },
     "execution_count": 192,
     "metadata": {},
     "output_type": "execute_result"
    },
    {
     "data": {
      "image/png": "[encoded data removed]",
      "text/plain": [
       "<Figure size 432x288 with 1 Axes>"
      ]
     },
     "metadata": {
      "needs_background": "light"
     },
     "output_type": "display_data"
    }
   ],
   "source": [
    "import matplotlib.pyplot as plt\n",
    "plt.scatter(x['Valid'], x['prev_vol_range'])"
   ]
  },
  {
   "cell_type": "code",
   "execution_count": 193,
   "metadata": {},
   "outputs": [
    {
     "data": {
      "text/html": [
       "<div>\n",
       "<style scoped>\n",
       "    .dataframe tbody tr th:only-of-type {\n",
       "        vertical-align: middle;\n",
       "    }\n",
       "\n",
       "    .dataframe tbody tr th {\n",
       "        vertical-align: top;\n",
       "    }\n",
       "\n",
       "    .dataframe thead th {\n",
       "        text-align: right;\n",
       "    }\n",
       "</style>\n",
       "<table border=\"1\" class=\"dataframe\">\n",
       "  <thead>\n",
       "    <tr style=\"text-align: right;\">\n",
       "      <th></th>\n",
       "      <th>PH</th>\n",
       "      <th>PL</th>\n",
       "      <th>Valid</th>\n",
       "      <th>Open</th>\n",
       "      <th>High</th>\n",
       "      <th>Low</th>\n",
       "      <th>Close</th>\n",
       "      <th>Volume</th>\n",
       "      <th>Dividends</th>\n",
       "      <th>Stock Splits</th>\n",
       "      <th>prev_vol_range</th>\n",
       "    </tr>\n",
       "    <tr>\n",
       "      <th>Date</th>\n",
       "      <th></th>\n",
       "      <th></th>\n",
       "      <th></th>\n",
       "      <th></th>\n",
       "      <th></th>\n",
       "      <th></th>\n",
       "      <th></th>\n",
       "      <th></th>\n",
       "      <th></th>\n",
       "      <th></th>\n",
       "      <th></th>\n",
       "    </tr>\n",
       "  </thead>\n",
       "  <tbody>\n",
       "    <tr>\n",
       "      <th>2000-09-21</th>\n",
       "      <td>1473.125000</td>\n",
       "      <td>1469.000000</td>\n",
       "      <td>1.0</td>\n",
       "      <td>20.170000</td>\n",
       "      <td>20.709999</td>\n",
       "      <td>20.010000</td>\n",
       "      <td>20.180000</td>\n",
       "      <td>0.0</td>\n",
       "      <td>0.0</td>\n",
       "      <td>0.0</td>\n",
       "      <td>0.709999</td>\n",
       "    </tr>\n",
       "    <tr>\n",
       "      <th>2000-09-22</th>\n",
       "      <td>1472.916667</td>\n",
       "      <td>1468.166667</td>\n",
       "      <td>1.0</td>\n",
       "      <td>22.090000</td>\n",
       "      <td>22.660000</td>\n",
       "      <td>20.740000</td>\n",
       "      <td>20.740000</td>\n",
       "      <td>0.0</td>\n",
       "      <td>0.0</td>\n",
       "      <td>0.0</td>\n",
       "      <td>1.260000</td>\n",
       "    </tr>\n",
       "    <tr>\n",
       "      <th>2000-09-25</th>\n",
       "      <td>1468.625000</td>\n",
       "      <td>1454.000000</td>\n",
       "      <td>1.0</td>\n",
       "      <td>20.850000</td>\n",
       "      <td>21.660000</td>\n",
       "      <td>20.660000</td>\n",
       "      <td>21.410000</td>\n",
       "      <td>0.0</td>\n",
       "      <td>0.0</td>\n",
       "      <td>0.0</td>\n",
       "      <td>0.699999</td>\n",
       "    </tr>\n",
       "    <tr>\n",
       "      <th>2000-09-26</th>\n",
       "      <td>1467.875000</td>\n",
       "      <td>1473.500000</td>\n",
       "      <td>0.0</td>\n",
       "      <td>21.500000</td>\n",
       "      <td>22.090000</td>\n",
       "      <td>21.100000</td>\n",
       "      <td>21.879999</td>\n",
       "      <td>0.0</td>\n",
       "      <td>0.0</td>\n",
       "      <td>0.0</td>\n",
       "      <td>1.920000</td>\n",
       "    </tr>\n",
       "    <tr>\n",
       "      <th>2000-09-27</th>\n",
       "      <td>1451.916667</td>\n",
       "      <td>1463.666667</td>\n",
       "      <td>0.0</td>\n",
       "      <td>21.709999</td>\n",
       "      <td>22.100000</td>\n",
       "      <td>21.389999</td>\n",
       "      <td>21.670000</td>\n",
       "      <td>0.0</td>\n",
       "      <td>0.0</td>\n",
       "      <td>0.0</td>\n",
       "      <td>1.000000</td>\n",
       "    </tr>\n",
       "    <tr>\n",
       "      <th>...</th>\n",
       "      <td>...</td>\n",
       "      <td>...</td>\n",
       "      <td>...</td>\n",
       "      <td>...</td>\n",
       "      <td>...</td>\n",
       "      <td>...</td>\n",
       "      <td>...</td>\n",
       "      <td>...</td>\n",
       "      <td>...</td>\n",
       "      <td>...</td>\n",
       "      <td>...</td>\n",
       "    </tr>\n",
       "    <tr>\n",
       "      <th>2021-05-14</th>\n",
       "      <td>4102.333333</td>\n",
       "      <td>4073.333333</td>\n",
       "      <td>1.0</td>\n",
       "      <td>21.770000</td>\n",
       "      <td>22.100000</td>\n",
       "      <td>18.660000</td>\n",
       "      <td>18.809999</td>\n",
       "      <td>0.0</td>\n",
       "      <td>0.0</td>\n",
       "      <td>0.0</td>\n",
       "      <td>6.719999</td>\n",
       "    </tr>\n",
       "    <tr>\n",
       "      <th>2021-05-17</th>\n",
       "      <td>4164.916667</td>\n",
       "      <td>4137.666667</td>\n",
       "      <td>1.0</td>\n",
       "      <td>19.889999</td>\n",
       "      <td>21.580000</td>\n",
       "      <td>19.670000</td>\n",
       "      <td>19.719999</td>\n",
       "      <td>0.0</td>\n",
       "      <td>0.0</td>\n",
       "      <td>0.0</td>\n",
       "      <td>6.700001</td>\n",
       "    </tr>\n",
       "    <tr>\n",
       "      <th>2021-05-18</th>\n",
       "      <td>4162.708333</td>\n",
       "      <td>4162.583333</td>\n",
       "      <td>1.0</td>\n",
       "      <td>18.889999</td>\n",
       "      <td>21.450001</td>\n",
       "      <td>18.809999</td>\n",
       "      <td>21.340000</td>\n",
       "      <td>0.0</td>\n",
       "      <td>0.0</td>\n",
       "      <td>0.0</td>\n",
       "      <td>3.440001</td>\n",
       "    </tr>\n",
       "    <tr>\n",
       "      <th>2021-05-19</th>\n",
       "      <td>4135.500000</td>\n",
       "      <td>4158.000000</td>\n",
       "      <td>0.0</td>\n",
       "      <td>22.459999</td>\n",
       "      <td>25.959999</td>\n",
       "      <td>21.879999</td>\n",
       "      <td>22.180000</td>\n",
       "      <td>0.0</td>\n",
       "      <td>0.0</td>\n",
       "      <td>0.0</td>\n",
       "      <td>1.910000</td>\n",
       "    </tr>\n",
       "    <tr>\n",
       "      <th>2021-05-20</th>\n",
       "      <td>4109.083333</td>\n",
       "      <td>4086.833333</td>\n",
       "      <td>1.0</td>\n",
       "      <td>22.330000</td>\n",
       "      <td>23.500000</td>\n",
       "      <td>20.190001</td>\n",
       "      <td>20.670000</td>\n",
       "      <td>0.0</td>\n",
       "      <td>0.0</td>\n",
       "      <td>0.0</td>\n",
       "      <td>2.640001</td>\n",
       "    </tr>\n",
       "  </tbody>\n",
       "</table>\n",
       "<p>5138 rows × 11 columns</p>\n",
       "</div>"
      ],
      "text/plain": [
       "                     PH           PL  Valid       Open       High        Low  \\\n",
       "Date                                                                           \n",
       "2000-09-21  1473.125000  1469.000000    1.0  20.170000  20.709999  20.010000   \n",
       "2000-09-22  1472.916667  1468.166667    1.0  22.090000  22.660000  20.740000   \n",
       "2000-09-25  1468.625000  1454.000000    1.0  20.850000  21.660000  20.660000   \n",
       "2000-09-26  1467.875000  1473.500000    0.0  21.500000  22.090000  21.100000   \n",
       "2000-09-27  1451.916667  1463.666667    0.0  21.709999  22.100000  21.389999   \n",
       "...                 ...          ...    ...        ...        ...        ...   \n",
       "2021-05-14  4102.333333  4073.333333    1.0  21.770000  22.100000  18.660000   \n",
       "2021-05-17  4164.916667  4137.666667    1.0  19.889999  21.580000  19.670000   \n",
       "2021-05-18  4162.708333  4162.583333    1.0  18.889999  21.450001  18.809999   \n",
       "2021-05-19  4135.500000  4158.000000    0.0  22.459999  25.959999  21.879999   \n",
       "2021-05-20  4109.083333  4086.833333    1.0  22.330000  23.500000  20.190001   \n",
       "\n",
       "                Close  Volume  Dividends  Stock Splits  prev_vol_range  \n",
       "Date                                                                    \n",
       "2000-09-21  20.180000     0.0        0.0           0.0        0.709999  \n",
       "2000-09-22  20.740000     0.0        0.0           0.0        1.260000  \n",
       "2000-09-25  21.410000     0.0        0.0           0.0        0.699999  \n",
       "2000-09-26  21.879999     0.0        0.0           0.0        1.920000  \n",
       "2000-09-27  21.670000     0.0        0.0           0.0        1.000000  \n",
       "...               ...     ...        ...           ...             ...  \n",
       "2021-05-14  18.809999     0.0        0.0           0.0        6.719999  \n",
       "2021-05-17  19.719999     0.0        0.0           0.0        6.700001  \n",
       "2021-05-18  21.340000     0.0        0.0           0.0        3.440001  \n",
       "2021-05-19  22.180000     0.0        0.0           0.0        1.910000  \n",
       "2021-05-20  20.670000     0.0        0.0           0.0        2.640001  \n",
       "\n",
       "[5138 rows x 11 columns]"
      ]
     },
     "execution_count": 193,
     "metadata": {},
     "output_type": "execute_result"
    }
   ],
   "source": [
    "x"
   ]
  },
  {
   "cell_type": "code",
   "execution_count": 194,
   "metadata": {},
   "outputs": [],
   "source": [
    "from sklearn.cluster import KMeans\n"
   ]
  },
  {
   "cell_type": "code",
   "execution_count": 196,
   "metadata": {},
   "outputs": [],
   "source": [
    "a = [[a,b] for a,b in zip(x['High'], x['Low'])]"
   ]
  },
  {
   "cell_type": "code",
   "execution_count": 170,
   "metadata": {},
   "outputs": [],
   "source": [
    "kmeans = KMeans(n_clusters = 5, random_state = 0).fit(a)"
   ]
  },
  {
   "cell_type": "code",
   "execution_count": 207,
   "metadata": {},
   "outputs": [],
   "source": [
    "predicted = []\n",
    "\n",
    "for i in range(len(x)):\n",
    "    predicted.append(kmeans.predict([[x.iloc[i]['High'], x.iloc[i]['Low']]]))\n",
    "x['predicted'] = predicted"
   ]
  },
  {
   "cell_type": "code",
   "execution_count": 211,
   "metadata": {},
   "outputs": [
    {
     "data": {
      "text/plain": [
       "(array([[0., 0., 1., ..., 0., 0., 0.],\n",
       "        [0., 0., 1., ..., 0., 0., 0.],\n",
       "        [0., 0., 1., ..., 0., 0., 0.],\n",
       "        ...,\n",
       "        [0., 0., 1., ..., 0., 0., 0.],\n",
       "        [1., 0., 0., ..., 0., 0., 0.],\n",
       "        [0., 0., 1., ..., 0., 0., 0.]]),\n",
       " array([0. , 0.4, 0.8, 1.2, 1.6, 2. , 2.4, 2.8, 3.2, 3.6, 4. ]),\n",
       " <a list of 5138 BarContainer objects>)"
      ]
     },
     "execution_count": 211,
     "metadata": {},
     "output_type": "execute_result"
    },
    {
     "data": {
      "image/png": "[encoded data removed]",
      "text/plain": [
       "<Figure size 432x288 with 1 Axes>"
      ]
     },
     "metadata": {
      "needs_background": "light"
     },
     "output_type": "display_data"
    }
   ],
   "source": [
    "plt.hist(x['predicted'])"
   ]
  },
  {
   "cell_type": "code",
   "execution_count": 201,
   "metadata": {},
   "outputs": [
    {
     "ename": "AttributeError",
     "evalue": "'list' object has no attribute 'shape'",
     "output_type": "error",
     "traceback": [
      "\u001b[1;31m---------------------------------------------------------------------------\u001b[0m",
      "\u001b[1;31mAttributeError\u001b[0m                            Traceback (most recent call last)",
      "\u001b[1;32m<ipython-input-201-e7d103e0ac9d>\u001b[0m in \u001b[0;36m<module>\u001b[1;34m\u001b[0m\n\u001b[1;32m----> 1\u001b[1;33m \u001b[0mcenters\u001b[0m\u001b[1;33m,\u001b[0m \u001b[0mlabels\u001b[0m \u001b[1;33m=\u001b[0m \u001b[0mfind_clusters\u001b[0m\u001b[1;33m(\u001b[0m\u001b[0ma\u001b[0m\u001b[1;33m,\u001b[0m \u001b[1;36m4\u001b[0m\u001b[1;33m)\u001b[0m\u001b[1;33m\u001b[0m\u001b[1;33m\u001b[0m\u001b[0m\n\u001b[0m\u001b[0;32m      2\u001b[0m plt.scatter(a[:, 0], a[:, 1], c=labels,\n\u001b[0;32m      3\u001b[0m             s=50, cmap='viridis');\n",
      "\u001b[1;32m<ipython-input-198-5ac341b25312>\u001b[0m in \u001b[0;36mfind_clusters\u001b[1;34m(X, n_clusters, rseed)\u001b[0m\n\u001b[0;32m      2\u001b[0m     \u001b[1;31m# 1. Randomly choose clusters\u001b[0m\u001b[1;33m\u001b[0m\u001b[1;33m\u001b[0m\u001b[1;33m\u001b[0m\u001b[0m\n\u001b[0;32m      3\u001b[0m     \u001b[0mrng\u001b[0m \u001b[1;33m=\u001b[0m \u001b[0mnp\u001b[0m\u001b[1;33m.\u001b[0m\u001b[0mrandom\u001b[0m\u001b[1;33m.\u001b[0m\u001b[0mRandomState\u001b[0m\u001b[1;33m(\u001b[0m\u001b[0mrseed\u001b[0m\u001b[1;33m)\u001b[0m\u001b[1;33m\u001b[0m\u001b[1;33m\u001b[0m\u001b[0m\n\u001b[1;32m----> 4\u001b[1;33m     \u001b[0mi\u001b[0m \u001b[1;33m=\u001b[0m \u001b[0mrng\u001b[0m\u001b[1;33m.\u001b[0m\u001b[0mpermutation\u001b[0m\u001b[1;33m(\u001b[0m\u001b[0mX\u001b[0m\u001b[1;33m.\u001b[0m\u001b[0mshape\u001b[0m\u001b[1;33m[\u001b[0m\u001b[1;36m0\u001b[0m\u001b[1;33m]\u001b[0m\u001b[1;33m)\u001b[0m\u001b[1;33m[\u001b[0m\u001b[1;33m:\u001b[0m\u001b[0mn_clusters\u001b[0m\u001b[1;33m]\u001b[0m\u001b[1;33m\u001b[0m\u001b[1;33m\u001b[0m\u001b[0m\n\u001b[0m\u001b[0;32m      5\u001b[0m     \u001b[0mcenters\u001b[0m \u001b[1;33m=\u001b[0m \u001b[0mX\u001b[0m\u001b[1;33m[\u001b[0m\u001b[0mi\u001b[0m\u001b[1;33m]\u001b[0m\u001b[1;33m\u001b[0m\u001b[1;33m\u001b[0m\u001b[0m\n\u001b[0;32m      6\u001b[0m \u001b[1;33m\u001b[0m\u001b[0m\n",
      "\u001b[1;31mAttributeError\u001b[0m: 'list' object has no attribute 'shape'"
     ]
    }
   ],
   "source": [
    "centers, labels = find_clusters(a, 4)\n",
    "plt.scatter(a[:, 0], a[:, 1], c=labels,\n",
    "            s=50, cmap='viridis');"
   ]
  },
  {
   "cell_type": "code",
   "execution_count": null,
   "metadata": {},
   "outputs": [],
   "source": []
  }
 ],
 "metadata": {
  "kernelspec": {
   "display_name": "Python 3",
   "language": "python",
   "name": "python3"
  },
  "language_info": {
   "codemirror_mode": {
    "name": "ipython",
    "version": 3
   },
   "file_extension": ".py",
   "mimetype": "text/x-python",
   "name": "python",
   "nbconvert_exporter": "python",
   "pygments_lexer": "ipython3",
   "version": "3.8.5"
  }
 },
 "nbformat": 4,
 "nbformat_minor": 4
}
